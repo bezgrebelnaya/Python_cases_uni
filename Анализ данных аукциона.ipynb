{
 "cells": [
  {
   "cell_type": "markdown",
   "id": "3bf4f6ff-07f7-40c6-9d45-69d5ef08b8c8",
   "metadata": {},
   "source": [
    "## Практическое занятие 10. Анализ данных аукциона"
   ]
  },
  {
   "cell_type": "markdown",
   "id": "1502a26b-2cdc-4dff-9897-550918c73eef",
   "metadata": {},
   "source": [
    "<div class=\"alert alert-block alert-success\">\n",
    "</b> ФИО, группа: </b> Безгребельная Алла, УСБО-01-23\n",
    "</div>"
   ]
  },
  {
   "cell_type": "markdown",
   "id": "baeb0477-36d8-402f-9b7b-31e037cd7467",
   "metadata": {},
   "source": [
    "Наборы данных auction.csv содержит информацию об аукционе eBay по продаже наручных часов Cartier, карманных компьютеров Palm Pilot M515, игровых консолей Xbox.\n",
    "\n",
    "* auctionid: уникальный идентификатор аукциона\n",
    "* bid: промежуточная ставка, сделанная участником аукциона\n",
    "* bidtime: время в днях, в течение которого товар была выставлен на продажу с начала аукциона\n",
    "* bidder: имя пользователя участника аукциона на eBay\n",
    "* bidderrate: рейтинг участника аукциона в отзывах на eBay\n",
    "* openbid: начальная ставка, установленная продавцом\n",
    "* price: цена закрытия, по которой был продан предмет (эквивалентная второй по величине ставке + дополнительная надбавка)\n",
    "* item: предмет аукциона\n",
    "* auction_type: тип аукциона\n"
   ]
  },
  {
   "cell_type": "markdown",
   "id": "39bcc43c-5aff-4243-b07b-e61ec1edbebe",
   "metadata": {},
   "source": [
    "### Часть 1. Предварительный анализ"
   ]
  },
  {
   "cell_type": "markdown",
   "id": "6b1cc377-8263-4bd4-a125-39fc800d59ec",
   "metadata": {},
   "source": [
    "<div class=\"alert alert-block alert-warning\">\n",
    "<b> 1.  Импортируйте необходимые библиотеки и установите датасет для анализа: </b>\n",
    "</div>"
   ]
  },
  {
   "cell_type": "code",
   "execution_count": 610,
   "id": "fb9fe127-79f2-425d-aa5d-a8afac1a5a87",
   "metadata": {},
   "outputs": [
    {
     "data": {
      "text/html": [
       "<div>\n",
       "<style scoped>\n",
       "    .dataframe tbody tr th:only-of-type {\n",
       "        vertical-align: middle;\n",
       "    }\n",
       "\n",
       "    .dataframe tbody tr th {\n",
       "        vertical-align: top;\n",
       "    }\n",
       "\n",
       "    .dataframe thead th {\n",
       "        text-align: right;\n",
       "    }\n",
       "</style>\n",
       "<table border=\"1\" class=\"dataframe\">\n",
       "  <thead>\n",
       "    <tr style=\"text-align: right;\">\n",
       "      <th></th>\n",
       "      <th>auctionid</th>\n",
       "      <th>bid</th>\n",
       "      <th>bidtime</th>\n",
       "      <th>bidder</th>\n",
       "      <th>bidderrate</th>\n",
       "      <th>openbid</th>\n",
       "      <th>price</th>\n",
       "      <th>item</th>\n",
       "      <th>auction_type</th>\n",
       "    </tr>\n",
       "  </thead>\n",
       "  <tbody>\n",
       "    <tr>\n",
       "      <th>0</th>\n",
       "      <td>1638893549</td>\n",
       "      <td>175.00</td>\n",
       "      <td>2.230949</td>\n",
       "      <td>schadenfreud</td>\n",
       "      <td>0.0</td>\n",
       "      <td>99.00</td>\n",
       "      <td>177.50</td>\n",
       "      <td>Cartier wristwatch</td>\n",
       "      <td>3 day auction</td>\n",
       "    </tr>\n",
       "    <tr>\n",
       "      <th>1</th>\n",
       "      <td>1638893549</td>\n",
       "      <td>100.00</td>\n",
       "      <td>2.600116</td>\n",
       "      <td>chuik</td>\n",
       "      <td>0.0</td>\n",
       "      <td>99.00</td>\n",
       "      <td>177.50</td>\n",
       "      <td>Cartier wristwatch</td>\n",
       "      <td>3 day auction</td>\n",
       "    </tr>\n",
       "    <tr>\n",
       "      <th>2</th>\n",
       "      <td>1638893549</td>\n",
       "      <td>120.00</td>\n",
       "      <td>2.600810</td>\n",
       "      <td>kiwisstuff</td>\n",
       "      <td>2.0</td>\n",
       "      <td>99.00</td>\n",
       "      <td>177.50</td>\n",
       "      <td>Cartier wristwatch</td>\n",
       "      <td>3 day auction</td>\n",
       "    </tr>\n",
       "    <tr>\n",
       "      <th>3</th>\n",
       "      <td>1638893549</td>\n",
       "      <td>150.00</td>\n",
       "      <td>2.601076</td>\n",
       "      <td>kiwisstuff</td>\n",
       "      <td>2.0</td>\n",
       "      <td>99.00</td>\n",
       "      <td>177.50</td>\n",
       "      <td>Cartier wristwatch</td>\n",
       "      <td>3 day auction</td>\n",
       "    </tr>\n",
       "    <tr>\n",
       "      <th>4</th>\n",
       "      <td>1638893549</td>\n",
       "      <td>177.50</td>\n",
       "      <td>2.909826</td>\n",
       "      <td>eli.flint@flightsafety.co</td>\n",
       "      <td>4.0</td>\n",
       "      <td>99.00</td>\n",
       "      <td>177.50</td>\n",
       "      <td>Cartier wristwatch</td>\n",
       "      <td>3 day auction</td>\n",
       "    </tr>\n",
       "    <tr>\n",
       "      <th>...</th>\n",
       "      <td>...</td>\n",
       "      <td>...</td>\n",
       "      <td>...</td>\n",
       "      <td>...</td>\n",
       "      <td>...</td>\n",
       "      <td>...</td>\n",
       "      <td>...</td>\n",
       "      <td>...</td>\n",
       "      <td>...</td>\n",
       "    </tr>\n",
       "    <tr>\n",
       "      <th>10676</th>\n",
       "      <td>8214889177</td>\n",
       "      <td>61.00</td>\n",
       "      <td>6.359155</td>\n",
       "      <td>714ark</td>\n",
       "      <td>15.0</td>\n",
       "      <td>0.01</td>\n",
       "      <td>90.01</td>\n",
       "      <td>Xbox game console</td>\n",
       "      <td>7 day auction</td>\n",
       "    </tr>\n",
       "    <tr>\n",
       "      <th>10677</th>\n",
       "      <td>8214889177</td>\n",
       "      <td>76.00</td>\n",
       "      <td>6.359294</td>\n",
       "      <td>rjdorman</td>\n",
       "      <td>1.0</td>\n",
       "      <td>0.01</td>\n",
       "      <td>90.01</td>\n",
       "      <td>Xbox game console</td>\n",
       "      <td>7 day auction</td>\n",
       "    </tr>\n",
       "    <tr>\n",
       "      <th>10678</th>\n",
       "      <td>8214889177</td>\n",
       "      <td>90.00</td>\n",
       "      <td>6.428738</td>\n",
       "      <td>baylorjeep</td>\n",
       "      <td>3.0</td>\n",
       "      <td>0.01</td>\n",
       "      <td>90.01</td>\n",
       "      <td>Xbox game console</td>\n",
       "      <td>7 day auction</td>\n",
       "    </tr>\n",
       "    <tr>\n",
       "      <th>10679</th>\n",
       "      <td>8214889177</td>\n",
       "      <td>88.00</td>\n",
       "      <td>6.760081</td>\n",
       "      <td>jasonjasonparis</td>\n",
       "      <td>18.0</td>\n",
       "      <td>0.01</td>\n",
       "      <td>90.01</td>\n",
       "      <td>Xbox game console</td>\n",
       "      <td>7 day auction</td>\n",
       "    </tr>\n",
       "    <tr>\n",
       "      <th>10680</th>\n",
       "      <td>8214889177</td>\n",
       "      <td>90.01</td>\n",
       "      <td>6.988831</td>\n",
       "      <td>gpgtpse</td>\n",
       "      <td>268.0</td>\n",
       "      <td>0.01</td>\n",
       "      <td>90.01</td>\n",
       "      <td>Xbox game console</td>\n",
       "      <td>7 day auction</td>\n",
       "    </tr>\n",
       "  </tbody>\n",
       "</table>\n",
       "<p>10681 rows × 9 columns</p>\n",
       "</div>"
      ],
      "text/plain": [
       "        auctionid     bid   bidtime                     bidder  bidderrate  \\\n",
       "0      1638893549  175.00  2.230949               schadenfreud         0.0   \n",
       "1      1638893549  100.00  2.600116                      chuik         0.0   \n",
       "2      1638893549  120.00  2.600810                 kiwisstuff         2.0   \n",
       "3      1638893549  150.00  2.601076                 kiwisstuff         2.0   \n",
       "4      1638893549  177.50  2.909826  eli.flint@flightsafety.co         4.0   \n",
       "...           ...     ...       ...                        ...         ...   \n",
       "10676  8214889177   61.00  6.359155                     714ark        15.0   \n",
       "10677  8214889177   76.00  6.359294                   rjdorman         1.0   \n",
       "10678  8214889177   90.00  6.428738                 baylorjeep         3.0   \n",
       "10679  8214889177   88.00  6.760081            jasonjasonparis        18.0   \n",
       "10680  8214889177   90.01  6.988831                    gpgtpse       268.0   \n",
       "\n",
       "       openbid   price                item   auction_type  \n",
       "0        99.00  177.50  Cartier wristwatch  3 day auction  \n",
       "1        99.00  177.50  Cartier wristwatch  3 day auction  \n",
       "2        99.00  177.50  Cartier wristwatch  3 day auction  \n",
       "3        99.00  177.50  Cartier wristwatch  3 day auction  \n",
       "4        99.00  177.50  Cartier wristwatch  3 day auction  \n",
       "...        ...     ...                 ...            ...  \n",
       "10676     0.01   90.01   Xbox game console  7 day auction  \n",
       "10677     0.01   90.01   Xbox game console  7 day auction  \n",
       "10678     0.01   90.01   Xbox game console  7 day auction  \n",
       "10679     0.01   90.01   Xbox game console  7 day auction  \n",
       "10680     0.01   90.01   Xbox game console  7 day auction  \n",
       "\n",
       "[10681 rows x 9 columns]"
      ]
     },
     "execution_count": 610,
     "metadata": {},
     "output_type": "execute_result"
    }
   ],
   "source": [
    "import pandas as pd\n",
    "import numpy as np\n",
    "import matplotlib.pyplot as plt\n",
    "import seaborn as sns\n",
    "\n",
    "df = pd.read_csv('auction.csv')\n",
    "df"
   ]
  },
  {
   "cell_type": "markdown",
   "id": "2cd3872c-f276-4a52-a48d-3c22c47aaae8",
   "metadata": {},
   "source": [
    "<div class=\"alert alert-block alert-warning\">\n",
    "<b> 2. Проведите предварительный анализ данных - установите, есть ли в данных пропуски, удалите их или замените, оцените размер датасета и постройте графики распределения переменных (опирайтесь на прошлые кейсы) </b>\n",
    "</div>"
   ]
  },
  {
   "cell_type": "code",
   "execution_count": 612,
   "id": "7a112811-8052-4881-92a3-5b35b45b55b0",
   "metadata": {},
   "outputs": [
    {
     "name": "stdout",
     "output_type": "stream",
     "text": [
      "<class 'pandas.core.frame.DataFrame'>\n",
      "RangeIndex: 10681 entries, 0 to 10680\n",
      "Data columns (total 9 columns):\n",
      " #   Column        Non-Null Count  Dtype  \n",
      "---  ------        --------------  -----  \n",
      " 0   auctionid     10681 non-null  int64  \n",
      " 1   bid           10681 non-null  float64\n",
      " 2   bidtime       10681 non-null  float64\n",
      " 3   bidder        10665 non-null  object \n",
      " 4   bidderrate    10670 non-null  float64\n",
      " 5   openbid       10681 non-null  float64\n",
      " 6   price         10681 non-null  float64\n",
      " 7   item          10681 non-null  object \n",
      " 8   auction_type  10681 non-null  object \n",
      "dtypes: float64(5), int64(1), object(3)\n",
      "memory usage: 751.1+ KB\n"
     ]
    }
   ],
   "source": [
    "df.info()"
   ]
  },
  {
   "cell_type": "code",
   "execution_count": 614,
   "id": "29df4e89-729e-47ad-b89f-7a2743db03fc",
   "metadata": {},
   "outputs": [
    {
     "name": "stdout",
     "output_type": "stream",
     "text": [
      "<class 'pandas.core.frame.DataFrame'>\n",
      "Index: 10665 entries, 0 to 10680\n",
      "Data columns (total 9 columns):\n",
      " #   Column        Non-Null Count  Dtype  \n",
      "---  ------        --------------  -----  \n",
      " 0   auctionid     10665 non-null  int64  \n",
      " 1   bid           10665 non-null  float64\n",
      " 2   bidtime       10665 non-null  float64\n",
      " 3   bidder        10665 non-null  object \n",
      " 4   bidderrate    10654 non-null  float64\n",
      " 5   openbid       10665 non-null  float64\n",
      " 6   price         10665 non-null  float64\n",
      " 7   item          10665 non-null  object \n",
      " 8   auction_type  10665 non-null  object \n",
      "dtypes: float64(5), int64(1), object(3)\n",
      "memory usage: 833.2+ KB\n"
     ]
    }
   ],
   "source": [
    "df = df.drop(np.where(df['bidder'].isna())[0])\n",
    "df.info()"
   ]
  },
  {
   "cell_type": "code",
   "execution_count": 616,
   "id": "046c9bb0-c79a-41c6-b93c-1a22aefcba34",
   "metadata": {},
   "outputs": [
    {
     "data": {
      "text/html": [
       "<div>\n",
       "<style scoped>\n",
       "    .dataframe tbody tr th:only-of-type {\n",
       "        vertical-align: middle;\n",
       "    }\n",
       "\n",
       "    .dataframe tbody tr th {\n",
       "        vertical-align: top;\n",
       "    }\n",
       "\n",
       "    .dataframe thead th {\n",
       "        text-align: right;\n",
       "    }\n",
       "</style>\n",
       "<table border=\"1\" class=\"dataframe\">\n",
       "  <thead>\n",
       "    <tr style=\"text-align: right;\">\n",
       "      <th></th>\n",
       "      <th>auctionid</th>\n",
       "      <th>bid</th>\n",
       "      <th>bidtime</th>\n",
       "      <th>bidder</th>\n",
       "      <th>bidderrate</th>\n",
       "      <th>openbid</th>\n",
       "      <th>price</th>\n",
       "      <th>item</th>\n",
       "      <th>auction_type</th>\n",
       "    </tr>\n",
       "  </thead>\n",
       "  <tbody>\n",
       "    <tr>\n",
       "      <th>8999</th>\n",
       "      <td>8212140993</td>\n",
       "      <td>135.00</td>\n",
       "      <td>6.402141</td>\n",
       "      <td>mac_ranch</td>\n",
       "      <td>NaN</td>\n",
       "      <td>9.99</td>\n",
       "      <td>306.0</td>\n",
       "      <td>Xbox game console</td>\n",
       "      <td>7 day auction</td>\n",
       "    </tr>\n",
       "    <tr>\n",
       "      <th>9000</th>\n",
       "      <td>8212140993</td>\n",
       "      <td>145.00</td>\n",
       "      <td>6.402384</td>\n",
       "      <td>mac_ranch</td>\n",
       "      <td>NaN</td>\n",
       "      <td>9.99</td>\n",
       "      <td>306.0</td>\n",
       "      <td>Xbox game console</td>\n",
       "      <td>7 day auction</td>\n",
       "    </tr>\n",
       "    <tr>\n",
       "      <th>9139</th>\n",
       "      <td>8212190120</td>\n",
       "      <td>22.22</td>\n",
       "      <td>4.537535</td>\n",
       "      <td>Private</td>\n",
       "      <td>NaN</td>\n",
       "      <td>12.99</td>\n",
       "      <td>28.0</td>\n",
       "      <td>Xbox game console</td>\n",
       "      <td>7 day auction</td>\n",
       "    </tr>\n",
       "    <tr>\n",
       "      <th>9140</th>\n",
       "      <td>8212190120</td>\n",
       "      <td>15.00</td>\n",
       "      <td>4.769734</td>\n",
       "      <td>Private</td>\n",
       "      <td>NaN</td>\n",
       "      <td>12.99</td>\n",
       "      <td>28.0</td>\n",
       "      <td>Xbox game console</td>\n",
       "      <td>7 day auction</td>\n",
       "    </tr>\n",
       "    <tr>\n",
       "      <th>9141</th>\n",
       "      <td>8212190120</td>\n",
       "      <td>22.00</td>\n",
       "      <td>4.769815</td>\n",
       "      <td>Private</td>\n",
       "      <td>NaN</td>\n",
       "      <td>12.99</td>\n",
       "      <td>28.0</td>\n",
       "      <td>Xbox game console</td>\n",
       "      <td>7 day auction</td>\n",
       "    </tr>\n",
       "    <tr>\n",
       "      <th>9142</th>\n",
       "      <td>8212190120</td>\n",
       "      <td>22.72</td>\n",
       "      <td>6.738773</td>\n",
       "      <td>Private</td>\n",
       "      <td>NaN</td>\n",
       "      <td>12.99</td>\n",
       "      <td>28.0</td>\n",
       "      <td>Xbox game console</td>\n",
       "      <td>7 day auction</td>\n",
       "    </tr>\n",
       "    <tr>\n",
       "      <th>9143</th>\n",
       "      <td>8212190120</td>\n",
       "      <td>24.00</td>\n",
       "      <td>6.753611</td>\n",
       "      <td>Private</td>\n",
       "      <td>NaN</td>\n",
       "      <td>12.99</td>\n",
       "      <td>28.0</td>\n",
       "      <td>Xbox game console</td>\n",
       "      <td>7 day auction</td>\n",
       "    </tr>\n",
       "    <tr>\n",
       "      <th>9144</th>\n",
       "      <td>8212190120</td>\n",
       "      <td>25.00</td>\n",
       "      <td>6.857685</td>\n",
       "      <td>Private</td>\n",
       "      <td>NaN</td>\n",
       "      <td>12.99</td>\n",
       "      <td>28.0</td>\n",
       "      <td>Xbox game console</td>\n",
       "      <td>7 day auction</td>\n",
       "    </tr>\n",
       "    <tr>\n",
       "      <th>9145</th>\n",
       "      <td>8212190120</td>\n",
       "      <td>25.00</td>\n",
       "      <td>6.943333</td>\n",
       "      <td>Private</td>\n",
       "      <td>NaN</td>\n",
       "      <td>12.99</td>\n",
       "      <td>28.0</td>\n",
       "      <td>Xbox game console</td>\n",
       "      <td>7 day auction</td>\n",
       "    </tr>\n",
       "    <tr>\n",
       "      <th>9146</th>\n",
       "      <td>8212190120</td>\n",
       "      <td>28.00</td>\n",
       "      <td>6.989757</td>\n",
       "      <td>Private</td>\n",
       "      <td>NaN</td>\n",
       "      <td>12.99</td>\n",
       "      <td>28.0</td>\n",
       "      <td>Xbox game console</td>\n",
       "      <td>7 day auction</td>\n",
       "    </tr>\n",
       "    <tr>\n",
       "      <th>9147</th>\n",
       "      <td>8212190120</td>\n",
       "      <td>27.00</td>\n",
       "      <td>6.999931</td>\n",
       "      <td>Private</td>\n",
       "      <td>NaN</td>\n",
       "      <td>12.99</td>\n",
       "      <td>28.0</td>\n",
       "      <td>Xbox game console</td>\n",
       "      <td>7 day auction</td>\n",
       "    </tr>\n",
       "  </tbody>\n",
       "</table>\n",
       "</div>"
      ],
      "text/plain": [
       "       auctionid     bid   bidtime     bidder  bidderrate  openbid  price  \\\n",
       "8999  8212140993  135.00  6.402141  mac_ranch         NaN     9.99  306.0   \n",
       "9000  8212140993  145.00  6.402384  mac_ranch         NaN     9.99  306.0   \n",
       "9139  8212190120   22.22  4.537535    Private         NaN    12.99   28.0   \n",
       "9140  8212190120   15.00  4.769734    Private         NaN    12.99   28.0   \n",
       "9141  8212190120   22.00  4.769815    Private         NaN    12.99   28.0   \n",
       "9142  8212190120   22.72  6.738773    Private         NaN    12.99   28.0   \n",
       "9143  8212190120   24.00  6.753611    Private         NaN    12.99   28.0   \n",
       "9144  8212190120   25.00  6.857685    Private         NaN    12.99   28.0   \n",
       "9145  8212190120   25.00  6.943333    Private         NaN    12.99   28.0   \n",
       "9146  8212190120   28.00  6.989757    Private         NaN    12.99   28.0   \n",
       "9147  8212190120   27.00  6.999931    Private         NaN    12.99   28.0   \n",
       "\n",
       "                   item   auction_type  \n",
       "8999  Xbox game console  7 day auction  \n",
       "9000  Xbox game console  7 day auction  \n",
       "9139  Xbox game console  7 day auction  \n",
       "9140  Xbox game console  7 day auction  \n",
       "9141  Xbox game console  7 day auction  \n",
       "9142  Xbox game console  7 day auction  \n",
       "9143  Xbox game console  7 day auction  \n",
       "9144  Xbox game console  7 day auction  \n",
       "9145  Xbox game console  7 day auction  \n",
       "9146  Xbox game console  7 day auction  \n",
       "9147  Xbox game console  7 day auction  "
      ]
     },
     "execution_count": 616,
     "metadata": {},
     "output_type": "execute_result"
    }
   ],
   "source": [
    "df[df.bidderrate.isna()]"
   ]
  },
  {
   "cell_type": "code",
   "execution_count": 618,
   "id": "4340accc-f53c-4123-ba26-9716b2e62dd9",
   "metadata": {},
   "outputs": [],
   "source": [
    "df['bidderrate'] = df['bidderrate'].fillna(df.bidderrate.mean())"
   ]
  },
  {
   "cell_type": "code",
   "execution_count": 620,
   "id": "0f1dcf77-792a-4944-948c-b910cb553fe2",
   "metadata": {},
   "outputs": [
    {
     "data": {
      "text/plain": [
       "(10665, 9)"
      ]
     },
     "execution_count": 620,
     "metadata": {},
     "output_type": "execute_result"
    }
   ],
   "source": [
    "df.shape"
   ]
  },
  {
   "cell_type": "code",
   "execution_count": 622,
   "id": "b2b1f50b-7306-42d1-948b-709597660a0d",
   "metadata": {},
   "outputs": [
    {
     "data": {
      "text/html": [
       "<div>\n",
       "<style scoped>\n",
       "    .dataframe tbody tr th:only-of-type {\n",
       "        vertical-align: middle;\n",
       "    }\n",
       "\n",
       "    .dataframe tbody tr th {\n",
       "        vertical-align: top;\n",
       "    }\n",
       "\n",
       "    .dataframe thead th {\n",
       "        text-align: right;\n",
       "    }\n",
       "</style>\n",
       "<table border=\"1\" class=\"dataframe\">\n",
       "  <thead>\n",
       "    <tr style=\"text-align: right;\">\n",
       "      <th></th>\n",
       "      <th>auctionid</th>\n",
       "      <th>bid</th>\n",
       "      <th>bidtime</th>\n",
       "      <th>bidder</th>\n",
       "      <th>bidderrate</th>\n",
       "      <th>openbid</th>\n",
       "      <th>price</th>\n",
       "      <th>item</th>\n",
       "      <th>auction_type</th>\n",
       "    </tr>\n",
       "  </thead>\n",
       "  <tbody>\n",
       "    <tr>\n",
       "      <th>0</th>\n",
       "      <td>1638893549</td>\n",
       "      <td>175.0</td>\n",
       "      <td>2.230949</td>\n",
       "      <td>schadenfreud</td>\n",
       "      <td>0.0</td>\n",
       "      <td>99.0</td>\n",
       "      <td>177.5</td>\n",
       "      <td>Cartier wristwatch</td>\n",
       "      <td>3 day auction</td>\n",
       "    </tr>\n",
       "    <tr>\n",
       "      <th>1</th>\n",
       "      <td>1638893549</td>\n",
       "      <td>100.0</td>\n",
       "      <td>2.600116</td>\n",
       "      <td>chuik</td>\n",
       "      <td>0.0</td>\n",
       "      <td>99.0</td>\n",
       "      <td>177.5</td>\n",
       "      <td>Cartier wristwatch</td>\n",
       "      <td>3 day auction</td>\n",
       "    </tr>\n",
       "    <tr>\n",
       "      <th>2</th>\n",
       "      <td>1638893549</td>\n",
       "      <td>120.0</td>\n",
       "      <td>2.600810</td>\n",
       "      <td>kiwisstuff</td>\n",
       "      <td>2.0</td>\n",
       "      <td>99.0</td>\n",
       "      <td>177.5</td>\n",
       "      <td>Cartier wristwatch</td>\n",
       "      <td>3 day auction</td>\n",
       "    </tr>\n",
       "    <tr>\n",
       "      <th>3</th>\n",
       "      <td>1638893549</td>\n",
       "      <td>150.0</td>\n",
       "      <td>2.601076</td>\n",
       "      <td>kiwisstuff</td>\n",
       "      <td>2.0</td>\n",
       "      <td>99.0</td>\n",
       "      <td>177.5</td>\n",
       "      <td>Cartier wristwatch</td>\n",
       "      <td>3 day auction</td>\n",
       "    </tr>\n",
       "    <tr>\n",
       "      <th>4</th>\n",
       "      <td>1638893549</td>\n",
       "      <td>177.5</td>\n",
       "      <td>2.909826</td>\n",
       "      <td>eli.flint@flightsafety.co</td>\n",
       "      <td>4.0</td>\n",
       "      <td>99.0</td>\n",
       "      <td>177.5</td>\n",
       "      <td>Cartier wristwatch</td>\n",
       "      <td>3 day auction</td>\n",
       "    </tr>\n",
       "  </tbody>\n",
       "</table>\n",
       "</div>"
      ],
      "text/plain": [
       "    auctionid    bid   bidtime                     bidder  bidderrate  \\\n",
       "0  1638893549  175.0  2.230949               schadenfreud         0.0   \n",
       "1  1638893549  100.0  2.600116                      chuik         0.0   \n",
       "2  1638893549  120.0  2.600810                 kiwisstuff         2.0   \n",
       "3  1638893549  150.0  2.601076                 kiwisstuff         2.0   \n",
       "4  1638893549  177.5  2.909826  eli.flint@flightsafety.co         4.0   \n",
       "\n",
       "   openbid  price                item   auction_type  \n",
       "0     99.0  177.5  Cartier wristwatch  3 day auction  \n",
       "1     99.0  177.5  Cartier wristwatch  3 day auction  \n",
       "2     99.0  177.5  Cartier wristwatch  3 day auction  \n",
       "3     99.0  177.5  Cartier wristwatch  3 day auction  \n",
       "4     99.0  177.5  Cartier wristwatch  3 day auction  "
      ]
     },
     "execution_count": 622,
     "metadata": {},
     "output_type": "execute_result"
    }
   ],
   "source": [
    "df.head()"
   ]
  },
  {
   "cell_type": "code",
   "execution_count": 624,
   "id": "deae021e-c34e-4bcc-b685-b2862f734ece",
   "metadata": {},
   "outputs": [
    {
     "data": {
      "image/png": "[encoded data removed]",
      "text/plain": [
       "<Figure size 640x480 with 1 Axes>"
      ]
     },
     "metadata": {},
     "output_type": "display_data"
    }
   ],
   "source": [
    "sns.histplot(data = df, x = 'bid', bins = 100)\n",
    "plt.title(\"Распределение промежуточной цены\")\n",
    "plt.show()"
   ]
  },
  {
   "cell_type": "code",
   "execution_count": 625,
   "id": "5efe2912-223d-48b5-8221-4cb094c015b9",
   "metadata": {},
   "outputs": [
    {
     "data": {
      "image/png": "[encoded data removed]",
      "text/plain": [
       "<Figure size 640x480 with 1 Axes>"
      ]
     },
     "metadata": {},
     "output_type": "display_data"
    }
   ],
   "source": [
    "sns.histplot(data = df, x = 'bidtime', bins = 50)\n",
    "plt.title(\"Распределение времени, в течение которого товар был выставлен на продажу с начала аукциона (дней)\")\n",
    "plt.show()"
   ]
  },
  {
   "cell_type": "code",
   "execution_count": 627,
   "id": "0151f87b-0b1a-4854-8b25-1523cbef6a13",
   "metadata": {},
   "outputs": [
    {
     "data": {
      "image/png": "[encoded data removed]",
      "text/plain": [
       "<Figure size 640x480 with 1 Axes>"
      ]
     },
     "metadata": {},
     "output_type": "display_data"
    }
   ],
   "source": [
    "sns.histplot(data = df, x = 'bidderrate', bins = 30)\n",
    "plt.title(\"Распределение рейтинга участника аукциона\")\n",
    "plt.show()"
   ]
  },
  {
   "cell_type": "code",
   "execution_count": 629,
   "id": "be5bf0a4-470f-479a-bdb4-db2900a72c32",
   "metadata": {},
   "outputs": [
    {
     "data": {
      "text/plain": [
       "(3387,)"
      ]
     },
     "execution_count": 629,
     "metadata": {},
     "output_type": "execute_result"
    }
   ],
   "source": [
    "df.bidder.unique().shape"
   ]
  },
  {
   "cell_type": "code",
   "execution_count": 630,
   "id": "cddd230b-5a33-4fa8-a0b3-23c2c861980f",
   "metadata": {},
   "outputs": [
    {
     "data": {
      "text/plain": [
       "count    10665.000000\n",
       "mean        31.982166\n",
       "std        120.616642\n",
       "min         -4.000000\n",
       "25%          1.000000\n",
       "50%          5.000000\n",
       "75%         21.000000\n",
       "max       3140.000000\n",
       "Name: bidderrate, dtype: float64"
      ]
     },
     "execution_count": 630,
     "metadata": {},
     "output_type": "execute_result"
    }
   ],
   "source": [
    "df.bidderrate.describe()"
   ]
  },
  {
   "cell_type": "code",
   "execution_count": 634,
   "id": "81861260-a261-4a43-927b-14a71c1cb4f1",
   "metadata": {},
   "outputs": [
    {
     "data": {
      "image/png": "[encoded data removed]",
      "text/plain": [
       "<Figure size 640x480 with 1 Axes>"
      ]
     },
     "metadata": {},
     "output_type": "display_data"
    }
   ],
   "source": [
    "plt.hist(data = df, x = 'openbid', bins = 30, color = 'red', alpha = 0.7, label = 'Начальная ставка')\n",
    "plt.hist(data = df, x = 'price', bins = 30, color = 'blue', alpha = 0.5, label = 'Цена закрытия')\n",
    "plt.title('Распределение начальной ставки и цены закрытия')\n",
    "plt.legend()\n",
    "plt.show()"
   ]
  },
  {
   "cell_type": "code",
   "execution_count": 642,
   "id": "d0f075b3-cd12-42bb-8de3-8096346e0bc7",
   "metadata": {},
   "outputs": [
    {
     "data": {
      "image/png": "[encoded data removed]",
      "text/plain": [
       "<Figure size 640x480 with 1 Axes>"
      ]
     },
     "metadata": {},
     "output_type": "display_data"
    }
   ],
   "source": [
    "df['auction_type'].value_counts().plot.pie(autopct='%1.1f%%', colors = ['pink', 'lightblue', 'lightgreen'])\n",
    "plt.title('Типы аукционов')\n",
    "plt.show()"
   ]
  },
  {
   "cell_type": "markdown",
   "id": "70d9b890-2e2e-4f10-9aba-11bb615b8726",
   "metadata": {},
   "source": [
    "### Часть 2. Анализ данных"
   ]
  },
  {
   "cell_type": "markdown",
   "id": "70cb5b87-41ea-4aed-9c31-c62c306b0b99",
   "metadata": {},
   "source": [
    "<div class=\"alert alert-block alert-warning\">\n",
    "<b> 3. Выведите описательные статистики  столбцов. Сделайте выводы о варьируемуести переменных.\n",
    "</b>\n",
    "</div>"
   ]
  },
  {
   "cell_type": "code",
   "execution_count": 646,
   "id": "b848a87b-d03c-47ed-b7f5-0d9651a72aab",
   "metadata": {},
   "outputs": [
    {
     "data": {
      "text/html": [
       "<div>\n",
       "<style scoped>\n",
       "    .dataframe tbody tr th:only-of-type {\n",
       "        vertical-align: middle;\n",
       "    }\n",
       "\n",
       "    .dataframe tbody tr th {\n",
       "        vertical-align: top;\n",
       "    }\n",
       "\n",
       "    .dataframe thead th {\n",
       "        text-align: right;\n",
       "    }\n",
       "</style>\n",
       "<table border=\"1\" class=\"dataframe\">\n",
       "  <thead>\n",
       "    <tr style=\"text-align: right;\">\n",
       "      <th></th>\n",
       "      <th>auctionid</th>\n",
       "      <th>bid</th>\n",
       "      <th>bidtime</th>\n",
       "      <th>bidderrate</th>\n",
       "      <th>openbid</th>\n",
       "      <th>price</th>\n",
       "    </tr>\n",
       "  </thead>\n",
       "  <tbody>\n",
       "    <tr>\n",
       "      <th>count</th>\n",
       "      <td>1.066500e+04</td>\n",
       "      <td>10665.000000</td>\n",
       "      <td>10665.000000</td>\n",
       "      <td>10665.000000</td>\n",
       "      <td>10665.000000</td>\n",
       "      <td>10665.000000</td>\n",
       "    </tr>\n",
       "    <tr>\n",
       "      <th>mean</th>\n",
       "      <td>4.130030e+09</td>\n",
       "      <td>207.767673</td>\n",
       "      <td>3.977561</td>\n",
       "      <td>31.982166</td>\n",
       "      <td>52.321473</td>\n",
       "      <td>335.372205</td>\n",
       "    </tr>\n",
       "    <tr>\n",
       "      <th>std</th>\n",
       "      <td>2.486767e+09</td>\n",
       "      <td>323.244672</td>\n",
       "      <td>2.353645</td>\n",
       "      <td>120.616642</td>\n",
       "      <td>168.568326</td>\n",
       "      <td>433.807722</td>\n",
       "    </tr>\n",
       "    <tr>\n",
       "      <th>min</th>\n",
       "      <td>1.638844e+09</td>\n",
       "      <td>0.010000</td>\n",
       "      <td>0.000567</td>\n",
       "      <td>-4.000000</td>\n",
       "      <td>0.010000</td>\n",
       "      <td>26.000000</td>\n",
       "    </tr>\n",
       "    <tr>\n",
       "      <th>25%</th>\n",
       "      <td>3.015329e+09</td>\n",
       "      <td>72.000000</td>\n",
       "      <td>1.948880</td>\n",
       "      <td>1.000000</td>\n",
       "      <td>1.000000</td>\n",
       "      <td>187.520000</td>\n",
       "    </tr>\n",
       "    <tr>\n",
       "      <th>50%</th>\n",
       "      <td>3.020455e+09</td>\n",
       "      <td>140.000000</td>\n",
       "      <td>4.137820</td>\n",
       "      <td>5.000000</td>\n",
       "      <td>4.990000</td>\n",
       "      <td>228.490000</td>\n",
       "    </tr>\n",
       "    <tr>\n",
       "      <th>75%</th>\n",
       "      <td>8.212136e+09</td>\n",
       "      <td>210.000000</td>\n",
       "      <td>6.445650</td>\n",
       "      <td>21.000000</td>\n",
       "      <td>50.000000</td>\n",
       "      <td>255.000000</td>\n",
       "    </tr>\n",
       "    <tr>\n",
       "      <th>max</th>\n",
       "      <td>8.215611e+09</td>\n",
       "      <td>5400.000000</td>\n",
       "      <td>6.999990</td>\n",
       "      <td>3140.000000</td>\n",
       "      <td>5000.000000</td>\n",
       "      <td>5400.000000</td>\n",
       "    </tr>\n",
       "  </tbody>\n",
       "</table>\n",
       "</div>"
      ],
      "text/plain": [
       "          auctionid           bid       bidtime    bidderrate       openbid  \\\n",
       "count  1.066500e+04  10665.000000  10665.000000  10665.000000  10665.000000   \n",
       "mean   4.130030e+09    207.767673      3.977561     31.982166     52.321473   \n",
       "std    2.486767e+09    323.244672      2.353645    120.616642    168.568326   \n",
       "min    1.638844e+09      0.010000      0.000567     -4.000000      0.010000   \n",
       "25%    3.015329e+09     72.000000      1.948880      1.000000      1.000000   \n",
       "50%    3.020455e+09    140.000000      4.137820      5.000000      4.990000   \n",
       "75%    8.212136e+09    210.000000      6.445650     21.000000     50.000000   \n",
       "max    8.215611e+09   5400.000000      6.999990   3140.000000   5000.000000   \n",
       "\n",
       "              price  \n",
       "count  10665.000000  \n",
       "mean     335.372205  \n",
       "std      433.807722  \n",
       "min       26.000000  \n",
       "25%      187.520000  \n",
       "50%      228.490000  \n",
       "75%      255.000000  \n",
       "max     5400.000000  "
      ]
     },
     "execution_count": 646,
     "metadata": {},
     "output_type": "execute_result"
    }
   ],
   "source": [
    "df.describe()"
   ]
  },
  {
   "cell_type": "markdown",
   "id": "acd911c1-cd99-4b78-be75-5fb84aada2f9",
   "metadata": {},
   "source": [
    "У всех показателей кроме bidtime медианное значение больше среднего (положительная асимметрия), у bidtime -- отрицательная асимметрия."
   ]
  },
  {
   "cell_type": "markdown",
   "id": "22df529c-524e-4cf0-b613-c4e3425aac70",
   "metadata": {},
   "source": [
    "<div class=\"alert alert-block alert-warning\">\n",
    "<b> 4. Проанализируйте товары, участвующие в аукционе, ответив на следующие вопросы (выполнив следующие задания): \n",
    "    \n",
    "* Какие типы товаров и за какую конечную стоимость покупают люди с меньшим/большим рейтингом?\n",
    "* Составьте сводную таблицу, отображающую среднюю конечную стоимость различных типов товаров, купленных в разных типах аукционов.\n",
    "\n",
    "Сделайте краткие выводы по результатам анализа\n",
    "    \n",
    "</b>\n",
    "</div>"
   ]
  },
  {
   "cell_type": "code",
   "execution_count": 650,
   "id": "67b8135f-09c0-419e-811b-c545b209ce65",
   "metadata": {},
   "outputs": [
    {
     "data": {
      "text/html": [
       "<div>\n",
       "<style scoped>\n",
       "    .dataframe tbody tr th:only-of-type {\n",
       "        vertical-align: middle;\n",
       "    }\n",
       "\n",
       "    .dataframe tbody tr th {\n",
       "        vertical-align: top;\n",
       "    }\n",
       "\n",
       "    .dataframe thead tr th {\n",
       "        text-align: left;\n",
       "    }\n",
       "</style>\n",
       "<table border=\"1\" class=\"dataframe\">\n",
       "  <thead>\n",
       "    <tr>\n",
       "      <th></th>\n",
       "      <th>item</th>\n",
       "      <th colspan=\"2\" halign=\"left\">price</th>\n",
       "    </tr>\n",
       "    <tr>\n",
       "      <th></th>\n",
       "      <th></th>\n",
       "      <th>count</th>\n",
       "      <th>mean</th>\n",
       "    </tr>\n",
       "  </thead>\n",
       "  <tbody>\n",
       "    <tr>\n",
       "      <th>0</th>\n",
       "      <td>Cartier wristwatch</td>\n",
       "      <td>661</td>\n",
       "      <td>1031.951815</td>\n",
       "    </tr>\n",
       "    <tr>\n",
       "      <th>1</th>\n",
       "      <td>Palm Pilot M515 PDA</td>\n",
       "      <td>1708</td>\n",
       "      <td>232.613285</td>\n",
       "    </tr>\n",
       "    <tr>\n",
       "      <th>2</th>\n",
       "      <td>Xbox game console</td>\n",
       "      <td>1012</td>\n",
       "      <td>149.279447</td>\n",
       "    </tr>\n",
       "  </tbody>\n",
       "</table>\n",
       "</div>"
      ],
      "text/plain": [
       "                  item price             \n",
       "                       count         mean\n",
       "0   Cartier wristwatch   661  1031.951815\n",
       "1  Palm Pilot M515 PDA  1708   232.613285\n",
       "2    Xbox game console  1012   149.279447"
      ]
     },
     "execution_count": 650,
     "metadata": {},
     "output_type": "execute_result"
    }
   ],
   "source": [
    "first_quantile = df['bidderrate'].quantile(0.25)\n",
    "third_quantile = df['bidderrate'].quantile(0.75)\n",
    "\n",
    "# Товары, которые покупают люди с меньшим рейтингом (25% общего числа покупателей, нижний квартиль)\n",
    "df[df.bidderrate <= first_quantile][['item', 'price']].groupby('item').agg(['count', 'mean']).reset_index()"
   ]
  },
  {
   "cell_type": "code",
   "execution_count": 652,
   "id": "c5e80e68-22a7-42de-ae0a-310b25348e18",
   "metadata": {},
   "outputs": [
    {
     "data": {
      "text/html": [
       "<div>\n",
       "<style scoped>\n",
       "    .dataframe tbody tr th:only-of-type {\n",
       "        vertical-align: middle;\n",
       "    }\n",
       "\n",
       "    .dataframe tbody tr th {\n",
       "        vertical-align: top;\n",
       "    }\n",
       "\n",
       "    .dataframe thead tr th {\n",
       "        text-align: left;\n",
       "    }\n",
       "</style>\n",
       "<table border=\"1\" class=\"dataframe\">\n",
       "  <thead>\n",
       "    <tr>\n",
       "      <th></th>\n",
       "      <th>item</th>\n",
       "      <th colspan=\"2\" halign=\"left\">price</th>\n",
       "    </tr>\n",
       "    <tr>\n",
       "      <th></th>\n",
       "      <th></th>\n",
       "      <th>count</th>\n",
       "      <th>mean</th>\n",
       "    </tr>\n",
       "  </thead>\n",
       "  <tbody>\n",
       "    <tr>\n",
       "      <th>0</th>\n",
       "      <td>Cartier wristwatch</td>\n",
       "      <td>567</td>\n",
       "      <td>774.224586</td>\n",
       "    </tr>\n",
       "    <tr>\n",
       "      <th>1</th>\n",
       "      <td>Palm Pilot M515 PDA</td>\n",
       "      <td>1467</td>\n",
       "      <td>231.576489</td>\n",
       "    </tr>\n",
       "    <tr>\n",
       "      <th>2</th>\n",
       "      <td>Xbox game console</td>\n",
       "      <td>659</td>\n",
       "      <td>136.624810</td>\n",
       "    </tr>\n",
       "  </tbody>\n",
       "</table>\n",
       "</div>"
      ],
      "text/plain": [
       "                  item price            \n",
       "                       count        mean\n",
       "0   Cartier wristwatch   567  774.224586\n",
       "1  Palm Pilot M515 PDA  1467  231.576489\n",
       "2    Xbox game console   659  136.624810"
      ]
     },
     "execution_count": 652,
     "metadata": {},
     "output_type": "execute_result"
    }
   ],
   "source": [
    "# Товары, которые покупают люди с большим рейтингом (25% общего числа покупателей, третий квартиль)\n",
    "df[df.bidderrate >= third_quantile][['item', 'price']].groupby('item').agg(['count', 'mean']).reset_index()"
   ]
  },
  {
   "cell_type": "code",
   "execution_count": 654,
   "id": "5474abb0-1f31-42dd-ab85-b6f2a69c5721",
   "metadata": {},
   "outputs": [
    {
     "data": {
      "text/html": [
       "<div>\n",
       "<style scoped>\n",
       "    .dataframe tbody tr th:only-of-type {\n",
       "        vertical-align: middle;\n",
       "    }\n",
       "\n",
       "    .dataframe tbody tr th {\n",
       "        vertical-align: top;\n",
       "    }\n",
       "\n",
       "    .dataframe thead th {\n",
       "        text-align: right;\n",
       "    }\n",
       "</style>\n",
       "<table border=\"1\" class=\"dataframe\">\n",
       "  <thead>\n",
       "    <tr style=\"text-align: right;\">\n",
       "      <th>auction_type</th>\n",
       "      <th>3 day auction</th>\n",
       "      <th>5 day auction</th>\n",
       "      <th>7 day auction</th>\n",
       "    </tr>\n",
       "    <tr>\n",
       "      <th>item</th>\n",
       "      <th></th>\n",
       "      <th></th>\n",
       "      <th></th>\n",
       "    </tr>\n",
       "  </thead>\n",
       "  <tbody>\n",
       "    <tr>\n",
       "      <th>Cartier wristwatch</th>\n",
       "      <td>678.779800</td>\n",
       "      <td>960.790620</td>\n",
       "      <td>961.307819</td>\n",
       "    </tr>\n",
       "    <tr>\n",
       "      <th>Palm Pilot M515 PDA</th>\n",
       "      <td>227.452928</td>\n",
       "      <td>230.115270</td>\n",
       "      <td>232.527364</td>\n",
       "    </tr>\n",
       "    <tr>\n",
       "      <th>Xbox game console</th>\n",
       "      <td>122.774810</td>\n",
       "      <td>149.259364</td>\n",
       "      <td>149.256257</td>\n",
       "    </tr>\n",
       "  </tbody>\n",
       "</table>\n",
       "</div>"
      ],
      "text/plain": [
       "auction_type         3 day auction  5 day auction  7 day auction\n",
       "item                                                            \n",
       "Cartier wristwatch      678.779800     960.790620     961.307819\n",
       "Palm Pilot M515 PDA     227.452928     230.115270     232.527364\n",
       "Xbox game console       122.774810     149.259364     149.256257"
      ]
     },
     "execution_count": 654,
     "metadata": {},
     "output_type": "execute_result"
    }
   ],
   "source": [
    "pd.pivot_table(df, values = 'price', index = 'item', columns = 'auction_type', aggfunc = 'mean')"
   ]
  },
  {
   "cell_type": "code",
   "execution_count": 656,
   "id": "5c4e5083-914b-42fd-8c16-f85919cfc112",
   "metadata": {},
   "outputs": [
    {
     "data": {
      "text/plain": [
       "0.002"
      ]
     },
     "execution_count": 656,
     "metadata": {},
     "output_type": "execute_result"
    }
   ],
   "source": [
    "round(100-149.256257/149.259364*100, 3)"
   ]
  },
  {
   "cell_type": "markdown",
   "id": "babf22d7-c76c-4326-982c-f820a3f3e686",
   "metadata": {},
   "source": [
    "Конечная стоимость товаров увеличивается пропорционально числу дней работы аукциона, \n",
    "исключением является \"Xbox game console\", на 7-дневном аукционе по сравнению с 5-дневным цена уменьшилась на 0.002%. "
   ]
  },
  {
   "cell_type": "markdown",
   "id": "ddad7055-8ae1-44b7-932f-5715262ab801",
   "metadata": {},
   "source": [
    "<div class=\"alert alert-block alert-warning\">\n",
    "<b> 5. Проанализируйте, как время, в течение которого товар был выставлен на продажу (bidtime), влияет на цену закрытия. Постройте график зависимости цены от времени (scatterplot).   </b>\n",
    "</div>"
   ]
  },
  {
   "cell_type": "code",
   "execution_count": 660,
   "id": "fdc402a1-849a-4864-8869-0c11ac12ba43",
   "metadata": {},
   "outputs": [
    {
     "data": {
      "text/plain": [
       "<Axes: xlabel='price', ylabel='bidtime'>"
      ]
     },
     "execution_count": 660,
     "metadata": {},
     "output_type": "execute_result"
    },
    {
     "data": {
      "image/png": "[encoded data removed]",
      "text/plain": [
       "<Figure size 640x480 with 1 Axes>"
      ]
     },
     "metadata": {},
     "output_type": "display_data"
    }
   ],
   "source": [
    "sns.scatterplot(data=df, x = 'price', y = 'bidtime')"
   ]
  },
  {
   "cell_type": "code",
   "execution_count": 662,
   "id": "f05bedb7-2f67-4b19-af2d-b447536d6644",
   "metadata": {},
   "outputs": [
    {
     "data": {
      "text/html": [
       "<div>\n",
       "<style scoped>\n",
       "    .dataframe tbody tr th:only-of-type {\n",
       "        vertical-align: middle;\n",
       "    }\n",
       "\n",
       "    .dataframe tbody tr th {\n",
       "        vertical-align: top;\n",
       "    }\n",
       "\n",
       "    .dataframe thead th {\n",
       "        text-align: right;\n",
       "    }\n",
       "</style>\n",
       "<table border=\"1\" class=\"dataframe\">\n",
       "  <thead>\n",
       "    <tr style=\"text-align: right;\">\n",
       "      <th></th>\n",
       "      <th>price</th>\n",
       "      <th>bidtime</th>\n",
       "    </tr>\n",
       "  </thead>\n",
       "  <tbody>\n",
       "    <tr>\n",
       "      <th>price</th>\n",
       "      <td>1.000000</td>\n",
       "      <td>-0.089972</td>\n",
       "    </tr>\n",
       "    <tr>\n",
       "      <th>bidtime</th>\n",
       "      <td>-0.089972</td>\n",
       "      <td>1.000000</td>\n",
       "    </tr>\n",
       "  </tbody>\n",
       "</table>\n",
       "</div>"
      ],
      "text/plain": [
       "            price   bidtime\n",
       "price    1.000000 -0.089972\n",
       "bidtime -0.089972  1.000000"
      ]
     },
     "execution_count": 662,
     "metadata": {},
     "output_type": "execute_result"
    }
   ],
   "source": [
    "df[['price', 'bidtime']].corr()"
   ]
  },
  {
   "cell_type": "markdown",
   "id": "b768de28-e616-4650-96f4-3aeb7dd877f1",
   "metadata": {},
   "source": [
    "Между показателями очень слабая обратная корреляция."
   ]
  },
  {
   "cell_type": "markdown",
   "id": "2906e8ed-def1-477d-8515-b6b91f4b0e41",
   "metadata": {},
   "source": [
    "<div class=\"alert alert-block alert-warning\">\n",
    "<b> 6. Посчитайте количество ставок (bid) на каждый лот и определите, какие предметы вызывают наибольший интерес у участников аукциона.   </b>\n",
    "</div>"
   ]
  },
  {
   "cell_type": "code",
   "execution_count": 666,
   "id": "1398734d-db21-4299-9b09-9f7bcc29b62d",
   "metadata": {},
   "outputs": [
    {
     "data": {
      "text/html": [
       "<div>\n",
       "<style scoped>\n",
       "    .dataframe tbody tr th:only-of-type {\n",
       "        vertical-align: middle;\n",
       "    }\n",
       "\n",
       "    .dataframe tbody tr th {\n",
       "        vertical-align: top;\n",
       "    }\n",
       "\n",
       "    .dataframe thead th {\n",
       "        text-align: right;\n",
       "    }\n",
       "</style>\n",
       "<table border=\"1\" class=\"dataframe\">\n",
       "  <thead>\n",
       "    <tr style=\"text-align: right;\">\n",
       "      <th>item</th>\n",
       "      <th>Cartier wristwatch</th>\n",
       "      <th>Palm Pilot M515 PDA</th>\n",
       "      <th>Xbox game console</th>\n",
       "      <th>All</th>\n",
       "    </tr>\n",
       "    <tr>\n",
       "      <th>auctionid</th>\n",
       "      <th></th>\n",
       "      <th></th>\n",
       "      <th></th>\n",
       "      <th></th>\n",
       "    </tr>\n",
       "  </thead>\n",
       "  <tbody>\n",
       "    <tr>\n",
       "      <th>1638843936</th>\n",
       "      <td>7</td>\n",
       "      <td>0</td>\n",
       "      <td>0</td>\n",
       "      <td>7</td>\n",
       "    </tr>\n",
       "    <tr>\n",
       "      <th>1638844284</th>\n",
       "      <td>2</td>\n",
       "      <td>0</td>\n",
       "      <td>0</td>\n",
       "      <td>2</td>\n",
       "    </tr>\n",
       "    <tr>\n",
       "      <th>1638844464</th>\n",
       "      <td>16</td>\n",
       "      <td>0</td>\n",
       "      <td>0</td>\n",
       "      <td>16</td>\n",
       "    </tr>\n",
       "    <tr>\n",
       "      <th>1638844729</th>\n",
       "      <td>11</td>\n",
       "      <td>0</td>\n",
       "      <td>0</td>\n",
       "      <td>11</td>\n",
       "    </tr>\n",
       "    <tr>\n",
       "      <th>1638893549</th>\n",
       "      <td>5</td>\n",
       "      <td>0</td>\n",
       "      <td>0</td>\n",
       "      <td>5</td>\n",
       "    </tr>\n",
       "    <tr>\n",
       "      <th>...</th>\n",
       "      <td>...</td>\n",
       "      <td>...</td>\n",
       "      <td>...</td>\n",
       "      <td>...</td>\n",
       "    </tr>\n",
       "    <tr>\n",
       "      <th>8215571039</th>\n",
       "      <td>0</td>\n",
       "      <td>0</td>\n",
       "      <td>20</td>\n",
       "      <td>20</td>\n",
       "    </tr>\n",
       "    <tr>\n",
       "      <th>8215582227</th>\n",
       "      <td>0</td>\n",
       "      <td>0</td>\n",
       "      <td>16</td>\n",
       "      <td>16</td>\n",
       "    </tr>\n",
       "    <tr>\n",
       "      <th>8215605488</th>\n",
       "      <td>0</td>\n",
       "      <td>0</td>\n",
       "      <td>11</td>\n",
       "      <td>11</td>\n",
       "    </tr>\n",
       "    <tr>\n",
       "      <th>8215610555</th>\n",
       "      <td>0</td>\n",
       "      <td>0</td>\n",
       "      <td>14</td>\n",
       "      <td>14</td>\n",
       "    </tr>\n",
       "    <tr>\n",
       "      <th>All</th>\n",
       "      <td>1953</td>\n",
       "      <td>5917</td>\n",
       "      <td>2795</td>\n",
       "      <td>10665</td>\n",
       "    </tr>\n",
       "  </tbody>\n",
       "</table>\n",
       "<p>629 rows × 4 columns</p>\n",
       "</div>"
      ],
      "text/plain": [
       "item        Cartier wristwatch  Palm Pilot M515 PDA  Xbox game console    All\n",
       "auctionid                                                                    \n",
       "1638843936                   7                    0                  0      7\n",
       "1638844284                   2                    0                  0      2\n",
       "1638844464                  16                    0                  0     16\n",
       "1638844729                  11                    0                  0     11\n",
       "1638893549                   5                    0                  0      5\n",
       "...                        ...                  ...                ...    ...\n",
       "8215571039                   0                    0                 20     20\n",
       "8215582227                   0                    0                 16     16\n",
       "8215605488                   0                    0                 11     11\n",
       "8215610555                   0                    0                 14     14\n",
       "All                       1953                 5917               2795  10665\n",
       "\n",
       "[629 rows x 4 columns]"
      ]
     },
     "execution_count": 666,
     "metadata": {},
     "output_type": "execute_result"
    }
   ],
   "source": [
    "pd.pivot_table(df, index = 'auctionid', columns = 'item', values = 'bid', aggfunc = 'count', fill_value = 0, margins=True)"
   ]
  },
  {
   "cell_type": "markdown",
   "id": "dee95877-2166-415a-9d52-a585bc335a4e",
   "metadata": {},
   "source": [
    "Самый популярный предмет на аукционе Palm Pilot M515 PDA."
   ]
  },
  {
   "cell_type": "markdown",
   "id": "2971a9b5-2ce0-44dc-b6d8-1850284d7bb2",
   "metadata": {},
   "source": [
    "<div class=\"alert alert-block alert-warning\">\n",
    "<b> 7. Напишите программу, которая присвоет каждому участнику аукциона его описание (1,2,3; где 1 - участники с высоким рейтингом и ставками, 2 - участники со средним рейтингом и ставками, 3 - участники с низким рейтингом и ставками) в отдельном столбце. \n",
    "</b>\n",
    "</div>"
   ]
  },
  {
   "cell_type": "code",
   "execution_count": 750,
   "id": "ee4a524a-69dd-421f-ac99-1b24d101957e",
   "metadata": {},
   "outputs": [
    {
     "data": {
      "text/html": [
       "<div>\n",
       "<style scoped>\n",
       "    .dataframe tbody tr th:only-of-type {\n",
       "        vertical-align: middle;\n",
       "    }\n",
       "\n",
       "    .dataframe tbody tr th {\n",
       "        vertical-align: top;\n",
       "    }\n",
       "\n",
       "    .dataframe thead th {\n",
       "        text-align: right;\n",
       "    }\n",
       "</style>\n",
       "<table border=\"1\" class=\"dataframe\">\n",
       "  <thead>\n",
       "    <tr style=\"text-align: right;\">\n",
       "      <th></th>\n",
       "      <th>auctionid</th>\n",
       "      <th>bid</th>\n",
       "      <th>bidtime</th>\n",
       "      <th>bidder</th>\n",
       "      <th>bidderrate</th>\n",
       "      <th>openbid</th>\n",
       "      <th>price</th>\n",
       "      <th>item</th>\n",
       "      <th>auction_type</th>\n",
       "      <th>description</th>\n",
       "    </tr>\n",
       "  </thead>\n",
       "  <tbody>\n",
       "    <tr>\n",
       "      <th>0</th>\n",
       "      <td>1638893549</td>\n",
       "      <td>175.00</td>\n",
       "      <td>2.230949</td>\n",
       "      <td>schadenfreud</td>\n",
       "      <td>0.0</td>\n",
       "      <td>99.00</td>\n",
       "      <td>177.50</td>\n",
       "      <td>Cartier wristwatch</td>\n",
       "      <td>3 day auction</td>\n",
       "      <td>3</td>\n",
       "    </tr>\n",
       "    <tr>\n",
       "      <th>1</th>\n",
       "      <td>1638893549</td>\n",
       "      <td>100.00</td>\n",
       "      <td>2.600116</td>\n",
       "      <td>chuik</td>\n",
       "      <td>0.0</td>\n",
       "      <td>99.00</td>\n",
       "      <td>177.50</td>\n",
       "      <td>Cartier wristwatch</td>\n",
       "      <td>3 day auction</td>\n",
       "      <td>3</td>\n",
       "    </tr>\n",
       "    <tr>\n",
       "      <th>2</th>\n",
       "      <td>1638893549</td>\n",
       "      <td>120.00</td>\n",
       "      <td>2.600810</td>\n",
       "      <td>kiwisstuff</td>\n",
       "      <td>2.0</td>\n",
       "      <td>99.00</td>\n",
       "      <td>177.50</td>\n",
       "      <td>Cartier wristwatch</td>\n",
       "      <td>3 day auction</td>\n",
       "      <td>2</td>\n",
       "    </tr>\n",
       "    <tr>\n",
       "      <th>3</th>\n",
       "      <td>1638893549</td>\n",
       "      <td>150.00</td>\n",
       "      <td>2.601076</td>\n",
       "      <td>kiwisstuff</td>\n",
       "      <td>2.0</td>\n",
       "      <td>99.00</td>\n",
       "      <td>177.50</td>\n",
       "      <td>Cartier wristwatch</td>\n",
       "      <td>3 day auction</td>\n",
       "      <td>2</td>\n",
       "    </tr>\n",
       "    <tr>\n",
       "      <th>4</th>\n",
       "      <td>1638893549</td>\n",
       "      <td>177.50</td>\n",
       "      <td>2.909826</td>\n",
       "      <td>eli.flint@flightsafety.co</td>\n",
       "      <td>4.0</td>\n",
       "      <td>99.00</td>\n",
       "      <td>177.50</td>\n",
       "      <td>Cartier wristwatch</td>\n",
       "      <td>3 day auction</td>\n",
       "      <td>2</td>\n",
       "    </tr>\n",
       "    <tr>\n",
       "      <th>...</th>\n",
       "      <td>...</td>\n",
       "      <td>...</td>\n",
       "      <td>...</td>\n",
       "      <td>...</td>\n",
       "      <td>...</td>\n",
       "      <td>...</td>\n",
       "      <td>...</td>\n",
       "      <td>...</td>\n",
       "      <td>...</td>\n",
       "      <td>...</td>\n",
       "    </tr>\n",
       "    <tr>\n",
       "      <th>10676</th>\n",
       "      <td>8214889177</td>\n",
       "      <td>61.00</td>\n",
       "      <td>6.359155</td>\n",
       "      <td>714ark</td>\n",
       "      <td>15.0</td>\n",
       "      <td>0.01</td>\n",
       "      <td>90.01</td>\n",
       "      <td>Xbox game console</td>\n",
       "      <td>7 day auction</td>\n",
       "      <td>3</td>\n",
       "    </tr>\n",
       "    <tr>\n",
       "      <th>10677</th>\n",
       "      <td>8214889177</td>\n",
       "      <td>76.00</td>\n",
       "      <td>6.359294</td>\n",
       "      <td>rjdorman</td>\n",
       "      <td>1.0</td>\n",
       "      <td>0.01</td>\n",
       "      <td>90.01</td>\n",
       "      <td>Xbox game console</td>\n",
       "      <td>7 day auction</td>\n",
       "      <td>2</td>\n",
       "    </tr>\n",
       "    <tr>\n",
       "      <th>10678</th>\n",
       "      <td>8214889177</td>\n",
       "      <td>90.00</td>\n",
       "      <td>6.428738</td>\n",
       "      <td>baylorjeep</td>\n",
       "      <td>3.0</td>\n",
       "      <td>0.01</td>\n",
       "      <td>90.01</td>\n",
       "      <td>Xbox game console</td>\n",
       "      <td>7 day auction</td>\n",
       "      <td>2</td>\n",
       "    </tr>\n",
       "    <tr>\n",
       "      <th>10679</th>\n",
       "      <td>8214889177</td>\n",
       "      <td>88.00</td>\n",
       "      <td>6.760081</td>\n",
       "      <td>jasonjasonparis</td>\n",
       "      <td>18.0</td>\n",
       "      <td>0.01</td>\n",
       "      <td>90.01</td>\n",
       "      <td>Xbox game console</td>\n",
       "      <td>7 day auction</td>\n",
       "      <td>2</td>\n",
       "    </tr>\n",
       "    <tr>\n",
       "      <th>10680</th>\n",
       "      <td>8214889177</td>\n",
       "      <td>90.01</td>\n",
       "      <td>6.988831</td>\n",
       "      <td>gpgtpse</td>\n",
       "      <td>268.0</td>\n",
       "      <td>0.01</td>\n",
       "      <td>90.01</td>\n",
       "      <td>Xbox game console</td>\n",
       "      <td>7 day auction</td>\n",
       "      <td>3</td>\n",
       "    </tr>\n",
       "  </tbody>\n",
       "</table>\n",
       "<p>10665 rows × 10 columns</p>\n",
       "</div>"
      ],
      "text/plain": [
       "        auctionid     bid   bidtime                     bidder  bidderrate  \\\n",
       "0      1638893549  175.00  2.230949               schadenfreud         0.0   \n",
       "1      1638893549  100.00  2.600116                      chuik         0.0   \n",
       "2      1638893549  120.00  2.600810                 kiwisstuff         2.0   \n",
       "3      1638893549  150.00  2.601076                 kiwisstuff         2.0   \n",
       "4      1638893549  177.50  2.909826  eli.flint@flightsafety.co         4.0   \n",
       "...           ...     ...       ...                        ...         ...   \n",
       "10676  8214889177   61.00  6.359155                     714ark        15.0   \n",
       "10677  8214889177   76.00  6.359294                   rjdorman         1.0   \n",
       "10678  8214889177   90.00  6.428738                 baylorjeep         3.0   \n",
       "10679  8214889177   88.00  6.760081            jasonjasonparis        18.0   \n",
       "10680  8214889177   90.01  6.988831                    gpgtpse       268.0   \n",
       "\n",
       "       openbid   price                item   auction_type  description  \n",
       "0        99.00  177.50  Cartier wristwatch  3 day auction            3  \n",
       "1        99.00  177.50  Cartier wristwatch  3 day auction            3  \n",
       "2        99.00  177.50  Cartier wristwatch  3 day auction            2  \n",
       "3        99.00  177.50  Cartier wristwatch  3 day auction            2  \n",
       "4        99.00  177.50  Cartier wristwatch  3 day auction            2  \n",
       "...        ...     ...                 ...            ...          ...  \n",
       "10676     0.01   90.01   Xbox game console  7 day auction            3  \n",
       "10677     0.01   90.01   Xbox game console  7 day auction            2  \n",
       "10678     0.01   90.01   Xbox game console  7 day auction            2  \n",
       "10679     0.01   90.01   Xbox game console  7 day auction            2  \n",
       "10680     0.01   90.01   Xbox game console  7 day auction            3  \n",
       "\n",
       "[10665 rows x 10 columns]"
      ]
     },
     "execution_count": 750,
     "metadata": {},
     "output_type": "execute_result"
    }
   ],
   "source": [
    "first_quantile_rate = df['bidderrate'].quantile(0.25)\n",
    "third_quantile_rate = df['bidderrate'].quantile(0.75)\n",
    "first_quantile_bid = df['bid'].quantile(0.25)\n",
    "third_quantile_bid = df['bid'].quantile(0.75)\n",
    "\n",
    "\n",
    "def group_apply(row): \n",
    "    rating = row['bidderrate']\n",
    "    bidd = row['bid']\n",
    "\n",
    "    if rating >= third_quantile_rate and bidd >= third_quantile_bid:\n",
    "        return 1\n",
    "    elif first_quantile_rate<=rating<third_quantile_rate  and first_quantile_bid<=bidd<third_quantile_bid:\n",
    "        return 2\n",
    "    else:\n",
    "        return 3\n",
    "\n",
    "\n",
    "df['description'] = df[['bidderrate', 'bid']].apply(group_apply, axis=1)\n",
    "df"
   ]
  },
  {
   "cell_type": "code",
   "execution_count": 762,
   "id": "f3015a78-8df3-47bd-99df-1696a981d2b6",
   "metadata": {},
   "outputs": [
    {
     "data": {
      "text/html": [
       "<div>\n",
       "<style scoped>\n",
       "    .dataframe tbody tr th:only-of-type {\n",
       "        vertical-align: middle;\n",
       "    }\n",
       "\n",
       "    .dataframe tbody tr th {\n",
       "        vertical-align: top;\n",
       "    }\n",
       "\n",
       "    .dataframe thead th {\n",
       "        text-align: right;\n",
       "    }\n",
       "</style>\n",
       "<table border=\"1\" class=\"dataframe\">\n",
       "  <thead>\n",
       "    <tr style=\"text-align: right;\">\n",
       "      <th></th>\n",
       "      <th>bidder</th>\n",
       "    </tr>\n",
       "    <tr>\n",
       "      <th>description</th>\n",
       "      <th></th>\n",
       "    </tr>\n",
       "  </thead>\n",
       "  <tbody>\n",
       "    <tr>\n",
       "      <th>1</th>\n",
       "      <td>73</td>\n",
       "    </tr>\n",
       "    <tr>\n",
       "      <th>2</th>\n",
       "      <td>334</td>\n",
       "    </tr>\n",
       "    <tr>\n",
       "      <th>3</th>\n",
       "      <td>407</td>\n",
       "    </tr>\n",
       "  </tbody>\n",
       "</table>\n",
       "</div>"
      ],
      "text/plain": [
       "             bidder\n",
       "description        \n",
       "1                73\n",
       "2               334\n",
       "3               407"
      ]
     },
     "execution_count": 762,
     "metadata": {},
     "output_type": "execute_result"
    }
   ],
   "source": [
    "unique_rows = df[['bidder', 'description']].drop_duplicates()\n",
    "bidders_with_2_groups = unique_rows.groupby('bidder').count().sort_values('description', ascending = False).head(407).reset_index()\n",
    "\n",
    "bidders_list = bidders_with_2_groups['bidder'].tolist()\n",
    "mask = unique_rows['bidder'].isin(bidders_list)\n",
    "result = unique_rows[mask]\n",
    "result.groupby('description').count()"
   ]
  },
  {
   "cell_type": "markdown",
   "id": "9bc63bbe-8bb3-4c6f-aa25-c00df67a3c3d",
   "metadata": {},
   "source": [
    "<div class=\"alert alert-block alert-warning\">\n",
    "<b> 8. Проанализируйте категории участников аукциона по всем показателям, имеющимся в датасете. Составьте краткие выводы\n",
    "    \n",
    "</b>\n",
    "</div>"
   ]
  },
  {
   "cell_type": "code",
   "execution_count": 513,
   "id": "3ce69f4b-b746-43a9-9689-5ab864740198",
   "metadata": {},
   "outputs": [
    {
     "data": {
      "text/html": [
       "<div>\n",
       "<style scoped>\n",
       "    .dataframe tbody tr th:only-of-type {\n",
       "        vertical-align: middle;\n",
       "    }\n",
       "\n",
       "    .dataframe tbody tr th {\n",
       "        vertical-align: top;\n",
       "    }\n",
       "\n",
       "    .dataframe thead th {\n",
       "        text-align: right;\n",
       "    }\n",
       "</style>\n",
       "<table border=\"1\" class=\"dataframe\">\n",
       "  <thead>\n",
       "    <tr style=\"text-align: right;\">\n",
       "      <th></th>\n",
       "      <th>openbid</th>\n",
       "      <th>bid</th>\n",
       "      <th>price</th>\n",
       "      <th>bidtime</th>\n",
       "      <th>bidderrate</th>\n",
       "    </tr>\n",
       "  </thead>\n",
       "  <tbody>\n",
       "    <tr>\n",
       "      <th>openbid</th>\n",
       "      <td>1.000000</td>\n",
       "      <td>0.609919</td>\n",
       "      <td>0.495245</td>\n",
       "      <td>0.055081</td>\n",
       "      <td>-0.002077</td>\n",
       "    </tr>\n",
       "    <tr>\n",
       "      <th>bid</th>\n",
       "      <td>0.609919</td>\n",
       "      <td>1.000000</td>\n",
       "      <td>0.858284</td>\n",
       "      <td>0.132905</td>\n",
       "      <td>-0.016783</td>\n",
       "    </tr>\n",
       "    <tr>\n",
       "      <th>price</th>\n",
       "      <td>0.495245</td>\n",
       "      <td>0.858284</td>\n",
       "      <td>1.000000</td>\n",
       "      <td>-0.089972</td>\n",
       "      <td>-0.016001</td>\n",
       "    </tr>\n",
       "    <tr>\n",
       "      <th>bidtime</th>\n",
       "      <td>0.055081</td>\n",
       "      <td>0.132905</td>\n",
       "      <td>-0.089972</td>\n",
       "      <td>1.000000</td>\n",
       "      <td>-0.031373</td>\n",
       "    </tr>\n",
       "    <tr>\n",
       "      <th>bidderrate</th>\n",
       "      <td>-0.002077</td>\n",
       "      <td>-0.016783</td>\n",
       "      <td>-0.016001</td>\n",
       "      <td>-0.031373</td>\n",
       "      <td>1.000000</td>\n",
       "    </tr>\n",
       "  </tbody>\n",
       "</table>\n",
       "</div>"
      ],
      "text/plain": [
       "             openbid       bid     price   bidtime  bidderrate\n",
       "openbid     1.000000  0.609919  0.495245  0.055081   -0.002077\n",
       "bid         0.609919  1.000000  0.858284  0.132905   -0.016783\n",
       "price       0.495245  0.858284  1.000000 -0.089972   -0.016001\n",
       "bidtime     0.055081  0.132905 -0.089972  1.000000   -0.031373\n",
       "bidderrate -0.002077 -0.016783 -0.016001 -0.031373    1.000000"
      ]
     },
     "execution_count": 513,
     "metadata": {},
     "output_type": "execute_result"
    }
   ],
   "source": [
    "df[['openbid','bid', 'price', 'bidtime', 'bidderrate']].corr()"
   ]
  },
  {
   "cell_type": "markdown",
   "id": "9e418e55-4243-4c93-b54e-ce984303ce83",
   "metadata": {},
   "source": [
    "1. Промежуточная ставка в наибольшей степени влияет на остальные показатели.\n",
    "2. Начальная ставка также оказывает влияние на цену закрытия, но в меньшей степени, чем промежуточная ставка.\n",
    "3. Рейтинг участника  практически не связан с другими переменными.\n",
    "4. Время ставки имеет очень слабую связь с другими переменными."
   ]
  },
  {
   "cell_type": "markdown",
   "id": "a5ee9c27-0a45-4e29-bc94-5b7725963146",
   "metadata": {},
   "source": [
    "<div class=\"alert alert-block alert-warning\">\n",
    "<b> 9. Проанализируйте начальную ставку, промежуточную ставку и цену закрытия по типам аукционов. Сделайте выводы об их различиях построив соответствующие графики\n",
    "    \n",
    "</b>\n",
    "</div>"
   ]
  },
  {
   "cell_type": "code",
   "execution_count": 493,
   "id": "76bafb4a-f9a0-4254-a726-10003e1ec4f2",
   "metadata": {},
   "outputs": [
    {
     "data": {
      "image/png": "[encoded data removed]",
      "text/plain": [
       "<Figure size 1800x600 with 3 Axes>"
      ]
     },
     "metadata": {},
     "output_type": "display_data"
    }
   ],
   "source": [
    "mean_prices = df.groupby('auction_type')[['openbid', 'bid', 'price']].mean()\n",
    "\n",
    "fig, axes = plt.subplots(1, 3, figsize=(18, 6))\n",
    "sns.boxplot(x='auction_type', y='openbid', data=df, ax=axes[0])\n",
    "axes[0].set_title('Начальная ставка')\n",
    "sns.boxplot(x='auction_type', y='bid', data=df, ax=axes[1])\n",
    "axes[1].set_title('Промежуточная ставка')\n",
    "sns.boxplot(x='auction_type', y='price', data=df, ax=axes[2])\n",
    "axes[2].set_title('Цена закрытия')\n",
    "\n",
    "plt.tight_layout()\n",
    "plt.show()"
   ]
  },
  {
   "cell_type": "code",
   "execution_count": 495,
   "id": "063b6178-357e-42e9-8152-c90070f47acc",
   "metadata": {},
   "outputs": [
    {
     "data": {
      "text/html": [
       "<div>\n",
       "<style scoped>\n",
       "    .dataframe tbody tr th:only-of-type {\n",
       "        vertical-align: middle;\n",
       "    }\n",
       "\n",
       "    .dataframe tbody tr th {\n",
       "        vertical-align: top;\n",
       "    }\n",
       "\n",
       "    .dataframe thead th {\n",
       "        text-align: right;\n",
       "    }\n",
       "</style>\n",
       "<table border=\"1\" class=\"dataframe\">\n",
       "  <thead>\n",
       "    <tr style=\"text-align: right;\">\n",
       "      <th></th>\n",
       "      <th>openbid</th>\n",
       "      <th>bid</th>\n",
       "      <th>price</th>\n",
       "    </tr>\n",
       "    <tr>\n",
       "      <th>auction_type</th>\n",
       "      <th></th>\n",
       "      <th></th>\n",
       "      <th></th>\n",
       "    </tr>\n",
       "  </thead>\n",
       "  <tbody>\n",
       "    <tr>\n",
       "      <th>3 day auction</th>\n",
       "      <td>61.621367</td>\n",
       "      <td>166.285225</td>\n",
       "      <td>254.666756</td>\n",
       "    </tr>\n",
       "    <tr>\n",
       "      <th>5 day auction</th>\n",
       "      <td>70.503908</td>\n",
       "      <td>230.266865</td>\n",
       "      <td>370.878027</td>\n",
       "    </tr>\n",
       "    <tr>\n",
       "      <th>7 day auction</th>\n",
       "      <td>45.467371</td>\n",
       "      <td>214.507162</td>\n",
       "      <td>350.385918</td>\n",
       "    </tr>\n",
       "  </tbody>\n",
       "</table>\n",
       "</div>"
      ],
      "text/plain": [
       "                 openbid         bid       price\n",
       "auction_type                                    \n",
       "3 day auction  61.621367  166.285225  254.666756\n",
       "5 day auction  70.503908  230.266865  370.878027\n",
       "7 day auction  45.467371  214.507162  350.385918"
      ]
     },
     "execution_count": 495,
     "metadata": {},
     "output_type": "execute_result"
    }
   ],
   "source": [
    "df[['openbid', 'bid', 'price', 'auction_type']].groupby('auction_type').mean()"
   ]
  },
  {
   "cell_type": "markdown",
   "id": "d4d300b5-964f-4145-9e49-af30c76e35cd",
   "metadata": {},
   "source": [
    "Наименьшая средняя цена на семидневном аукционе -- 45,5;. наибольшая на пятидневном -- 70,5. Максимальная средняя промежуточная цена \n",
    "на пятидневном аукционе -- 230,3, наименьшая на трехдневном -- 166,3. Наибольшая средняя цена закрытия сделки на пятидневном аукционе -- 379,9,\n",
    "наименьшая на трехдневном -- 254,7. \n",
    "Наибольшие значения средней цены открытия, промежуточная ставка и цены закрытия на пятидневных аукционах, наименьшие значения на трехдневном аукционе."
   ]
  },
  {
   "cell_type": "markdown",
   "id": "886d6d56-5298-4365-827f-f4911c031de5",
   "metadata": {},
   "source": [
    "<div class=\"alert alert-block alert-warning\">\n",
    "<b> 10. Составьте комплексные выводы по анализу в целом по датасету, учитывая промежуточные результаты\n",
    "    \n",
    "</b>\n",
    "</div>"
   ]
  },
  {
   "cell_type": "markdown",
   "id": "c3827b9f-47e8-4d3f-a1f1-094dfd25905d",
   "metadata": {},
   "source": [
    "__Выводы:__"
   ]
  },
  {
   "cell_type": "code",
   "execution_count": 553,
   "id": "974364f5-9de0-4713-8756-7a61ecf87c93",
   "metadata": {},
   "outputs": [
    {
     "data": {
      "text/plain": [
       "(3387,)"
      ]
     },
     "execution_count": 553,
     "metadata": {},
     "output_type": "execute_result"
    }
   ],
   "source": [
    "df.bidder.unique().shape"
   ]
  },
  {
   "cell_type": "markdown",
   "id": "f586b904-671c-49bd-9063-6876f14194e2",
   "metadata": {},
   "source": [
    "<div class=\"alert alert-light\">\n",
    "В датасете содержится 10665 записей об аукционе eBay по продаже наручных часов Cartier, карманных компьютеров Palm Pilot M515, игровых консолей Xbox.\n",
    "В торгах принимало участие 3387 уникальных пользователей, половина из которых имеет рейтинг ниже 5.0, однако также наблюдаются участники с высоким рейтингом (максимальное значение равно 3140.0). \n",
    "\n",
    "    65.9% аукционов были семидневными, 15.2% — пятидневными, 18.9% — трехдневными. \n",
    "\n",
    " Самым популярным предметом на аукционе является Palm Pilot M515. Люди с меньшим рейтингом (25% участников аукциона, имеющих рейтинг ниже 1.0) чаще покупают карманные компьютеры Palm Pilot M515 (1708 сделок), в среднем за 232.6 ден. ед. Люди с большим рейтингом (больше 21.0) также чаще покупают Palm Pilot M515 (1467 сделок), в среднем за 231.7 ден. ед.\n",
    "\n",
    "Конечная стоимость товаров увеличивается пропорционально числу дней работы аукциона, \n",
    "исключением является \"Xbox game console\", на 7-дневном аукционе по сравнению с 5-дневным цена уменьшилась на 0.002%. \n",
    "\n",
    "Мы распределили участников аукциона на три группы: участники с высоким рейтингом и ставками, участники со средним рейтингом и ставками, участники с низким рейтингом и ставками. Самой многочисленной группой является 3-я (2477), самая маленькая по численности группа первая (299), во второй 1018 участников. Одному участнику может присваиваться несколько номеров группы, т.к. принадлежность к группе рассчитывается для каждой ставки. Всего 407 участников с двумя группами: 73 участника принадлежат к 1 и 3 группе, 334 участника принадлежат ко 2 и 3.\n",
    "\n",
    "1. Промежуточная ставка в наибольшей степени влияет на остальные показатели.\n",
    "2. Начальная ставка также оказывает влияние на цену закрытия, но в меньшей степени, чем промежуточная ставка.\n",
    "3. Рейтинг участника  практически не связан с другими переменными.\n",
    "4. Время ставки имеет очень слабую связь с другими переменными. ",
    " ",
    "Наименьшая средняя цена на семидневном аукционе -- 45,5;. наибольшая на пятидневном -- 70,5. Максимальная средняя промежуточная цена \n",
    "на пятидневном аукционе -- 230,3, наименьшая на трехдневном -- 166,3. Наибольшая средняя цена закрытия сделки на пятидневном аукционе -- 379,9,\n",
    "наименьшая на трехдневном -- 254,7. \n",
    "Наибольшие значения средней цены открытия, промежуточная ставка и цены закрытия на пятидневных аукционах, наименьшие значения на трехдневном аукционе.\n",
    "\n",
    "</div>"
   ]
  },
  {
   "cell_type": "code",
   "execution_count": null,
   "id": "33902ce1-7877-4ace-b9d5-44072a561b5c",
   "metadata": {},
   "outputs": [],
   "source": []
  }
 ],
 "metadata": {
  "kernelspec": {
   "display_name": "Python 3 (ipykernel)",
   "language": "python",
   "name": "python3"
  },
  "language_info": {
   "codemirror_mode": {
    "name": "ipython",
    "version": 3
   },
   "file_extension": ".py",
   "mimetype": "text/x-python",
   "name": "python",
   "nbconvert_exporter": "python",
   "pygments_lexer": "ipython3",
   "version": "3.12.4"
  }
 },
 "nbformat": 4,
 "nbformat_minor": 5
}
